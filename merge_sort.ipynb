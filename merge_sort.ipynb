{
 "cells": [
  {
   "cell_type": "markdown",
   "metadata": {},
   "source": [
    "**[16,21,11,8,12,22] -> Merge Sort**"
   ]
  },
  {
   "cell_type": "markdown",
   "metadata": {},
   "source": [
    "aşamalar:\n",
    "-       [16,21,11]           [8,12,22]\n",
    "-     [16]    [21,11]      [8,12]    [22]\n",
    "-     [16]  [21]  [11]    [8]  [12]  [22]\n",
    "-     [16]    [11,21]      [8,12]    [22]\n",
    "-       [11,16,21]           [8,12,22]\n",
    "-             [8,11,12,16,21,22]"
   ]
  },
  {
   "cell_type": "markdown",
   "metadata": {},
   "source": [
    "Big-O:\n",
    "- O(n*log(n))"
   ]
  }
 ],
 "metadata": {
  "kernelspec": {
   "display_name": "Python 3.10.7 64-bit",
   "language": "python",
   "name": "python3"
  },
  "language_info": {
   "name": "python",
   "version": "3.10.7"
  },
  "orig_nbformat": 4,
  "vscode": {
   "interpreter": {
    "hash": "ea4d643f840ffe1ad9ee9ba684d06ce92cd04dc7623e6dd87c58595b1c306167"
   }
  }
 },
 "nbformat": 4,
 "nbformat_minor": 2
}

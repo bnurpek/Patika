{
 "cells": [
  {
   "cell_type": "markdown",
   "metadata": {},
   "source": [
    "**[22,27,16,2,18,6] -> Insertion Sort**"
   ]
  },
  {
   "cell_type": "markdown",
   "metadata": {},
   "source": [
    "1.\t[22,27,16,2,18,6]\n",
    "    [16,22,27,2,18,6]\n",
    "    [2,16,22,27,18,6]\n",
    "    [2,16,18,22,27,6]\n",
    "    [2,6,16,18,22,27]\n",
    "2.\tO(n^2)\n",
    "3.  Average case çünkü diziyi sıraladığımızda aradığımız sayı hemen hemen ortadadır."
   ]
  },
  {
   "cell_type": "markdown",
   "metadata": {},
   "source": [
    "**[7,3,5,8,2,9,4,15,6] dizisinin insertion sort ilk 4 adımı**"
   ]
  },
  {
   "cell_type": "markdown",
   "metadata": {},
   "source": [
    "- [3,7,5,8,2,9,4,15,6]\n",
    "- [3,5,7,8,2,9,4,15,6]\n",
    "- [2,3,5,7,8,9,4,15,6]\n",
    "- [2,3,4,5,7,8,9,15,6]"
   ]
  }
 ],
 "metadata": {
  "kernelspec": {
   "display_name": "Python 3.10.7 64-bit",
   "language": "python",
   "name": "python3"
  },
  "language_info": {
   "name": "python",
   "version": "3.10.7"
  },
  "orig_nbformat": 4,
  "vscode": {
   "interpreter": {
    "hash": "ea4d643f840ffe1ad9ee9ba684d06ce92cd04dc7623e6dd87c58595b1c306167"
   }
  }
 },
 "nbformat": 4,
 "nbformat_minor": 2
}
